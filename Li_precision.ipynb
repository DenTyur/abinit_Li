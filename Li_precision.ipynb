{
 "cells": [
  {
   "cell_type": "code",
   "execution_count": 27,
   "id": "ebce83b2-83d0-47ed-8353-cdbce42003ba",
   "metadata": {},
   "outputs": [],
   "source": [
    "import warnings\n",
    "warnings.filterwarnings(\"ignore\")\n",
    "\n",
    "from abipy import abilab\n",
    "import abipy.flowtk as flowtk\n",
    "\n",
    "import numpy as np\n",
    "\n",
    "import matplotlib.pyplot as plt\n",
    "\n",
    "%matplotlib inline   "
   ]
  },
  {
   "cell_type": "markdown",
   "id": "0cd452c5-3f93-47f8-9522-a6cf01da9c2e",
   "metadata": {},
   "source": [
    "# Precision cell relaxation"
   ]
  },
  {
   "cell_type": "code",
   "execution_count": 58,
   "id": "f2b9c987-2386-4598-bac8-fc11d759729b",
   "metadata": {},
   "outputs": [],
   "source": [
    "def gs_input(ecut = 41, acell = 7, rprim = 0.5):\n",
    "    structure = abilab.Structure.from_abivars(\n",
    "        ntype = 1,\n",
    "        znucl = 3,\n",
    "        natom = 1,\n",
    "        typat = (1),\n",
    "        acell = (acell, acell, acell),\n",
    "        rprim = [\n",
    "            -rprim, rprim, rprim,\n",
    "            rprim, -rprim, rprim,\n",
    "            rprim, rprim, -rprim,\n",
    "        ],\n",
    "        xred = [\n",
    "            0.0, 0.0, 0.0,\n",
    "        ]\n",
    "    )\n",
    "    inp = abilab.AbinitInput(\n",
    "        structure=structure,\n",
    "        pseudos=\"pseudos/Li.psp8\"\n",
    "    )\n",
    "    # inp = abilab.AbinitInput(\n",
    "    #     structure=abidata.cif_file(\"si.cif\"),\n",
    "    #     pseudos=abidata.pseudos(\"14si.pspnc\")\n",
    "    # )\n",
    "    inp.set_vars(\n",
    "        ecut = ecut,\n",
    "        diemac=10**6,\n",
    "        # toldfe=1e-8,\n",
    "        iomode=3,\n",
    "    )\n",
    "    inp.set_kmesh(\n",
    "        ngkpt=(4, 4, 4),     \n",
    "        shiftk = [\n",
    "            0.5, 0.5, 0.5,\n",
    "        ]\n",
    "    )\n",
    "    return inp"
   ]
  },
  {
   "cell_type": "code",
   "execution_count": 47,
   "id": "ffee6ef3-d9a6-41e7-bc42-11cbfecbb493",
   "metadata": {},
   "outputs": [
    {
     "name": "stdout",
     "output_type": "stream",
     "text": [
      "Full Formula (Li1)\n",
      "Reduced Formula: Li\n",
      "abc   :   3.207966   3.207966   3.207966\n",
      "angles: 109.471221 109.471221 109.471221\n",
      "pbc   :       True       True       True\n",
      "Sites (1)\n",
      "  #  SP      a    b    c\n",
      "---  ----  ---  ---  ---\n",
      "  0  Li      0    0    0\n"
     ]
    }
   ],
   "source": [
    "gsinp = gs_input()\n",
    "print(gsinp.structure)"
   ]
  },
  {
   "cell_type": "code",
   "execution_count": 57,
   "id": "1f755af7-921e-4a2c-b711-791be9cee2f1",
   "metadata": {},
   "outputs": [],
   "source": [
    "def build_relax_flow():\n",
    "    inp = gs_input()\n",
    "    inp.set_vars(\n",
    "        toldfe=1e-8,\n",
    "        tolvrs=1e-9,\n",
    "        optcell=1,\n",
    "        ionmov=22,\n",
    "        ntime=10,\n",
    "        dilatmx=1.1,\n",
    "        ecutsm=0.5,\n",
    "        iomode=3,\n",
    "    )\n",
    "    inp1 = inp\n",
    "    inp2 = inp\n",
    "    inp3 = inp\n",
    "    inp1.set_kmesh(\n",
    "        ngkpt=(2, 2, 2),     \n",
    "        shiftk = [\n",
    "            0.5, 0.5, 0.5,\n",
    "        ]\n",
    "    )\n",
    "    inp2.set_kmesh(\n",
    "        ngkpt=(4, 4, 4),     \n",
    "        shiftk = [\n",
    "            0.5, 0.5, 0.5,\n",
    "        ]\n",
    "    )\n",
    "    inp3.set_kmesh(\n",
    "        ngkpt=(6, 6, 6),     \n",
    "        shiftk = [\n",
    "            0.5, 0.5, 0.5,\n",
    "        ]\n",
    "    )\n",
    "    workdir = \"precision_flow_relax\"\n",
    "    return flowtk.Flow.from_inputs(workdir, inputs=[inp1, inp2, inp3], task_class=flowtk.RelaxTask)"
   ]
  },
  {
   "cell_type": "code",
   "execution_count": 49,
   "id": "0995fb63-dc5e-481c-83f7-fab78257576b",
   "metadata": {},
   "outputs": [
    {
     "name": "stderr",
     "output_type": "stream",
     "text": [
      "Using scheduler v >= 3.0.0\n"
     ]
    },
    {
     "name": "stdout",
     "output_type": "stream",
     "text": [
      "\u001b[33m[Mon Sep 30 12:56:32 2024] Number of launches: 2\u001b[0m\n",
      "\n",
      "Work #0: <Work, node_id=109, workdir=precision_flow_relax/w0>, Finalized=False\n",
      "+--------+-----------+------------+--------------+------------+-----------+-----------------+----------+-----------+\n",
      "| Task   | Status    | Queue      | MPI|Omp|Gb   | Warn|Com   | Class     | Sub|Rest|Corr   | Time     |   Node_ID |\n",
      "+========+===========+============+==============+============+===========+=================+==========+===========+\n",
      "| w0_t0  | \u001b[34mSubmitted\u001b[0m | 8907@local | 1|  1|2.0    | 0|  0      | RelaxTask | (1, 0, 0)       | 0:00:00Q |       110 |\n",
      "+--------+-----------+------------+--------------+------------+-----------+-----------------+----------+-----------+\n",
      "| w0_t1  | \u001b[34mSubmitted\u001b[0m | 8909@local | 1|  1|2.0    | 0|  0      | RelaxTask | (1, 0, 0)       | 0:00:00Q |       111 |\n",
      "+--------+-----------+------------+--------------+------------+-----------+-----------------+----------+-----------+\n",
      "| w0_t2  | Ready\u001b[0m     | None       | 1|  1|2.0    | NA|NA      | RelaxTask | (0, 0, 0)       | None     |       112 |\n",
      "+--------+-----------+------------+--------------+------------+-----------+-----------------+----------+-----------+\n",
      "\n",
      "Too many jobs in the queue: 2 >= 2.\n",
      " No job will be submitted.\n",
      "Too many jobs in the queue: 2 >= 2.\n",
      " No job will be submitted.\n",
      "Too many jobs in the queue: 2 >= 2.\n",
      " No job will be submitted.\n",
      "\u001b[33m[Mon Sep 30 12:57:12 2024] Number of launches: 1\u001b[0m\n",
      "\n",
      "Work #0: <Work, node_id=109, workdir=precision_flow_relax/w0>, Finalized=False\n",
      "+--------+-----------+------------+--------------+------------+-----------+-----------------+----------+-----------+\n",
      "| Task   | Status    | Queue      | MPI|Omp|Gb   | Warn|Com   | Class     | Sub|Rest|Corr   | Time     |   Node_ID |\n",
      "+========+===========+============+==============+============+===========+=================+==========+===========+\n",
      "| w0_t0  | \u001b[32mCompleted\u001b[0m | 8907@local | 1|  1|2.0    | 1|  2      | RelaxTask | (1, 0, 0)       | 0:00:22R |       110 |\n",
      "+--------+-----------+------------+--------------+------------+-----------+-----------------+----------+-----------+\n",
      "| w0_t1  | \u001b[32mCompleted\u001b[0m | 8909@local | 1|  1|2.0    | 1|  2      | RelaxTask | (1, 0, 0)       | 0:00:22R |       111 |\n",
      "+--------+-----------+------------+--------------+------------+-----------+-----------------+----------+-----------+\n",
      "| w0_t2  | \u001b[34mSubmitted\u001b[0m | 8959@local | 1|  1|2.0    | 0|  0      | RelaxTask | (1, 0, 0)       | 0:00:00Q |       112 |\n",
      "+--------+-----------+------------+--------------+------------+-----------+-----------------+----------+-----------+\n",
      "\n",
      "\n",
      "Work #0: <Work, node_id=109, workdir=precision_flow_relax/w0>, Finalized=False\n",
      "+--------+-----------+------------+--------------+------------+-----------+-----------------+----------+-----------+\n",
      "| Task   | Status    | Queue      | MPI|Omp|Gb   | Warn|Com   | Class     | Sub|Rest|Corr   | Time     |   Node_ID |\n",
      "+========+===========+============+==============+============+===========+=================+==========+===========+\n",
      "| w0_t0  | \u001b[32mCompleted\u001b[0m | 8907@local | 1|  1|2.0    | 1|  2      | RelaxTask | (1, 0, 0)       | 0:00:22R |       110 |\n",
      "+--------+-----------+------------+--------------+------------+-----------+-----------------+----------+-----------+\n",
      "| w0_t1  | \u001b[32mCompleted\u001b[0m | 8909@local | 1|  1|2.0    | 1|  2      | RelaxTask | (1, 0, 0)       | 0:00:22R |       111 |\n",
      "+--------+-----------+------------+--------------+------------+-----------+-----------------+----------+-----------+\n",
      "| w0_t2  | \u001b[35mRunning\u001b[0m   | 8959@local | 1|  1|2.0    | 1|  2      | RelaxTask | (1, 0, 0)       | 0:00:00R |       112 |\n",
      "+--------+-----------+------------+--------------+------------+-----------+-----------------+----------+-----------+\n",
      "\n",
      "\n",
      "Work #0: <Work, node_id=109, workdir=precision_flow_relax/w0>, Finalized=False\n",
      "+--------+-----------+------------+--------------+------------+-----------+-----------------+----------+-----------+\n",
      "| Task   | Status    | Queue      | MPI|Omp|Gb   | Warn|Com   | Class     | Sub|Rest|Corr   | Time     |   Node_ID |\n",
      "+========+===========+============+==============+============+===========+=================+==========+===========+\n",
      "| w0_t0  | \u001b[32mCompleted\u001b[0m | 8907@local | 1|  1|2.0    | 1|  2      | RelaxTask | (1, 0, 0)       | 0:00:22R |       110 |\n",
      "+--------+-----------+------------+--------------+------------+-----------+-----------------+----------+-----------+\n",
      "| w0_t1  | \u001b[32mCompleted\u001b[0m | 8909@local | 1|  1|2.0    | 1|  2      | RelaxTask | (1, 0, 0)       | 0:00:22R |       111 |\n",
      "+--------+-----------+------------+--------------+------------+-----------+-----------------+----------+-----------+\n",
      "| w0_t2  | \u001b[35mRunning\u001b[0m   | 8959@local | 1|  1|2.0    | 1|  2      | RelaxTask | (1, 0, 0)       | 0:00:10R |       112 |\n",
      "+--------+-----------+------------+--------------+------------+-----------+-----------------+----------+-----------+\n",
      "\n",
      "\n",
      "Work #0: <Work, node_id=109, workdir=precision_flow_relax/w0>, Finalized=\u001b[32mTrue\u001b[0m\n",
      "  Finalized works are not shown. Use verbose > 0 to force output.\n",
      "\u001b[32m\n",
      "all_ok reached\n",
      "\u001b[0m\n",
      "Calling flow.finalize() ...\n",
      "\n",
      "Submitted on: Mon Sep 30 12:56:32 2024\n",
      "Completed on: Mon Sep 30 12:57:42 2024\n",
      "Elapsed time: 0:01:09.996175\n",
      "Flow completed successfully\n",
      "\n"
     ]
    },
    {
     "data": {
      "text/plain": [
       "0"
      ]
     },
     "execution_count": 49,
     "metadata": {},
     "output_type": "execute_result"
    }
   ],
   "source": [
    "flow_relax = build_relax_flow()\n",
    "flow_relax.make_scheduler().start()"
   ]
  },
  {
   "cell_type": "code",
   "execution_count": 50,
   "id": "f2566d11-54e1-4dd8-a5e9-fe5be10ada6c",
   "metadata": {},
   "outputs": [],
   "source": [
    "with abilab.GsrRobot.from_dir(\"precision_flow_relax\") as relax_robot:\n",
    "    relax_table = relax_robot.get_dataframe().sort_values(by=\"nkpt\")\n",
    "    relax_table[\"energy_Ha\"] = relax_table[\"energy\"] * abilab.units.eV_to_Ha\n",
    "    relax_table[\"a_Br\"] = relax_table[\"a\"] * abilab.units.ang_to_bohr\n",
    "    dfs = relax_robot.get_structure_dataframes()"
   ]
  },
  {
   "cell_type": "code",
   "execution_count": 54,
   "id": "83ffd955-e0a3-44a4-9d3a-cae72d0d126f",
   "metadata": {},
   "outputs": [
    {
     "data": {
      "text/html": [
       "<div>\n",
       "<style scoped>\n",
       "    .dataframe tbody tr th:only-of-type {\n",
       "        vertical-align: middle;\n",
       "    }\n",
       "\n",
       "    .dataframe tbody tr th {\n",
       "        vertical-align: top;\n",
       "    }\n",
       "\n",
       "    .dataframe thead th {\n",
       "        text-align: right;\n",
       "    }\n",
       "</style>\n",
       "<table border=\"1\" class=\"dataframe\">\n",
       "  <thead>\n",
       "    <tr style=\"text-align: right;\">\n",
       "      <th></th>\n",
       "      <th>energy</th>\n",
       "      <th>energy_Ha</th>\n",
       "      <th>a</th>\n",
       "      <th>a_Br</th>\n",
       "      <th>pressure</th>\n",
       "      <th>nkpt</th>\n",
       "    </tr>\n",
       "  </thead>\n",
       "  <tbody>\n",
       "    <tr>\n",
       "      <th>w0/t0/outdata/out_GSR.nc</th>\n",
       "      <td>-194.833067</td>\n",
       "      <td>-7.159983</td>\n",
       "      <td>3.367439</td>\n",
       "      <td>6.363537</td>\n",
       "      <td>0.000865</td>\n",
       "      <td>14</td>\n",
       "    </tr>\n",
       "    <tr>\n",
       "      <th>w0/t2/outdata/out_GSR.nc</th>\n",
       "      <td>-194.833067</td>\n",
       "      <td>-7.159983</td>\n",
       "      <td>3.367439</td>\n",
       "      <td>6.363537</td>\n",
       "      <td>0.000865</td>\n",
       "      <td>14</td>\n",
       "    </tr>\n",
       "    <tr>\n",
       "      <th>w0/t1/outdata/out_GSR.nc</th>\n",
       "      <td>-194.833067</td>\n",
       "      <td>-7.159983</td>\n",
       "      <td>3.367439</td>\n",
       "      <td>6.363537</td>\n",
       "      <td>0.000865</td>\n",
       "      <td>14</td>\n",
       "    </tr>\n",
       "  </tbody>\n",
       "</table>\n",
       "</div>"
      ],
      "text/plain": [
       "                              energy  energy_Ha         a      a_Br  pressure  \\\n",
       "w0/t0/outdata/out_GSR.nc -194.833067  -7.159983  3.367439  6.363537  0.000865   \n",
       "w0/t2/outdata/out_GSR.nc -194.833067  -7.159983  3.367439  6.363537  0.000865   \n",
       "w0/t1/outdata/out_GSR.nc -194.833067  -7.159983  3.367439  6.363537  0.000865   \n",
       "\n",
       "                          nkpt  \n",
       "w0/t0/outdata/out_GSR.nc    14  \n",
       "w0/t2/outdata/out_GSR.nc    14  \n",
       "w0/t1/outdata/out_GSR.nc    14  "
      ]
     },
     "execution_count": 54,
     "metadata": {},
     "output_type": "execute_result"
    }
   ],
   "source": [
    "relax_table[[\"energy\", \"energy_Ha\", \"a\", \"a_Br\", \"pressure\", \"nkpt\"]]"
   ]
  },
  {
   "cell_type": "markdown",
   "id": "e5bd08cc-9471-42cd-9dd3-586ad9b782b9",
   "metadata": {},
   "source": [
    "# Band structure"
   ]
  },
  {
   "cell_type": "code",
   "execution_count": 59,
   "id": "67c3c6a1-5fc3-4b2f-b783-1799c2802d58",
   "metadata": {},
   "outputs": [],
   "source": [
    "def build_ebands_flow():\n",
    "    \n",
    "    inp = gs_input(ecut=41, acell=1.0497113188, rprim=3.5)\n",
    "    \n",
    "    # Dataset 1\n",
    "    inp1 = inp\n",
    "    inp1.set_vars(tolvrs=1e-9)\n",
    "    inp.set_kmesh(\n",
    "        ngkpt=(4, 4, 4),     \n",
    "        shiftk = [\n",
    "            0.5, 0.5, 0.5,\n",
    "        ]\n",
    "    )\n",
    "\n",
    "    # Dataset 2\n",
    "    inp2 = inp\n",
    "    inp2.set_vars(tolwfr=1e-15)\n",
    "    inp2.set_kpath(ndivsm=5)\n",
    "\n",
    "    workdir = \"precision_flow_ebands\"\n",
    "    return flowtk.bandstructure_flow(workdir, scf_input=inp1, nscf_input=inp2)"
   ]
  },
  {
   "cell_type": "code",
   "execution_count": 63,
   "id": "3b69bec4-165a-4bba-9725-8abf0a16a6ef",
   "metadata": {},
   "outputs": [],
   "source": [
    "def build_ebands_flow():\n",
    "    structure = abilab.Structure.from_abivars(\n",
    "        ntype = 1,\n",
    "        znucl = 3,\n",
    "        natom = 1,\n",
    "        typat = (1),\n",
    "        acell = (1.0497113188,1.0497113188,1.0497113188),\n",
    "        rprim = [\n",
    "            -3.5, 3.5, 3.5,\n",
    "            3.5, -3.5, 3.5,\n",
    "            3.5, 3.5, -3.5,\n",
    "        ],\n",
    "        xred = [\n",
    "            0.0, 0.0, 0.0,\n",
    "        ]\n",
    "    )\n",
    "    multi = abilab.MultiDataset(\n",
    "        structure=structure,\n",
    "        pseudos=\"pseudos/Li.psp8\",\n",
    "        ndtset=2\n",
    "    )\n",
    "    multi.set_vars(\n",
    "        ecut = 37,\n",
    "        diemac=10**6,\n",
    "        iomode=3,\n",
    "    )\n",
    "    # Dataset 1\n",
    "    multi[0].set_vars(tolvrs=1e-9)\n",
    "    multi[0].set_kmesh(\n",
    "        ngkpt=(4, 4, 4),     \n",
    "        shiftk = [\n",
    "            0.5, 0.5, 0.5,\n",
    "        ]\n",
    "    )\n",
    "\n",
    "    # Dataset 2\n",
    "    multi[1].set_vars(tolwfr=1e-15)\n",
    "    multi[1].set_kpath(ndivsm=5)\n",
    "\n",
    "    scf_input, nscf_input = multi.split_datasets()\n",
    "    \n",
    "    workdir = \"precision_flow_ebands\"\n",
    "    return flowtk.bandstructure_flow(workdir, scf_input=scf_input, nscf_input=nscf_input)"
   ]
  },
  {
   "cell_type": "code",
   "execution_count": 64,
   "id": "cef4da4b-4fb1-404d-824f-10074b4985ce",
   "metadata": {},
   "outputs": [
    {
     "name": "stderr",
     "output_type": "stream",
     "text": [
      "Using scheduler v >= 3.0.0\n"
     ]
    },
    {
     "name": "stdout",
     "output_type": "stream",
     "text": [
      "\u001b[33m[Mon Sep 30 13:18:50 2024] Number of launches: 1\u001b[0m\n",
      "\n",
      "Work #0: <BandStructureWork, node_id=122, workdir=precision_flow_ebands/w0>, Finalized=False\n",
      "+--------+-------------+------------+--------------+------------+----------+-----------------+----------+-----------+\n",
      "| Task   | Status      | Queue      | MPI|Omp|Gb   | Warn|Com   | Class    | Sub|Rest|Corr   | Time     |   Node_ID |\n",
      "+========+=============+============+==============+============+==========+=================+==========+===========+\n",
      "| w0_t0  | \u001b[34mSubmitted\u001b[0m   | 9937@local | 1|  1|2.0    | 0|  0      | ScfTask  | (1, 0, 0)       | 0:00:00Q |       123 |\n",
      "+--------+-------------+------------+--------------+------------+----------+-----------------+----------+-----------+\n",
      "| w0_t1  | Initialized\u001b[0m | None       | 1|  1|2.0    | NA|NA      | NscfTask | (0, 0, 0)       | None     |       124 |\n",
      "+--------+-------------+------------+--------------+------------+----------+-----------------+----------+-----------+\n",
      "\n",
      "\u001b[33m\n",
      "nbdbuf is not specified in input, using `nbdbuf = 2 * nspinor` that may be too small!\"\n",
      "As a consequence, the NSCF cycle may have problems to converge the last bands within nstep iterations.\n",
      "To avoid this problem specify nbdbuf in the input file and adjust nband accordingly.\n",
      "\u001b[0m\n",
      "\u001b[33m[Mon Sep 30 13:19:00 2024] Number of launches: 1\u001b[0m\n",
      "\n",
      "Work #0: <BandStructureWork, node_id=122, workdir=precision_flow_ebands/w0>, Finalized=False\n",
      "+--------+-----------+------------+--------------+------------+----------+-----------------+----------+-----------+\n",
      "| Task   | Status    | Queue      | MPI|Omp|Gb   | Warn|Com   | Class    | Sub|Rest|Corr   | Time     |   Node_ID |\n",
      "+========+===========+============+==============+============+==========+=================+==========+===========+\n",
      "| w0_t0  | \u001b[32mCompleted\u001b[0m | 9937@local | 1|  1|2.0    | 0|  2      | ScfTask  | (1, 0, 0)       | 0:00:02R |       123 |\n",
      "+--------+-----------+------------+--------------+------------+----------+-----------------+----------+-----------+\n",
      "| w0_t1  | \u001b[34mSubmitted\u001b[0m | 9949@local | 1|  1|2.0    | 0|  0      | NscfTask | (1, 0, 0)       | 0:00:00Q |       124 |\n",
      "+--------+-----------+------------+--------------+------------+----------+-----------------+----------+-----------+\n",
      "\n",
      "\n",
      "Work #0: <BandStructureWork, node_id=122, workdir=precision_flow_ebands/w0>, Finalized=\u001b[32mTrue\u001b[0m\n",
      "  Finalized works are not shown. Use verbose > 0 to force output.\n",
      "\u001b[32m\n",
      "all_ok reached\n",
      "\u001b[0m\n",
      "Calling flow.finalize() ...\n",
      "\n",
      "Submitted on: Mon Sep 30 13:18:50 2024\n",
      "Completed on: Mon Sep 30 13:19:10 2024\n",
      "Elapsed time: 0:00:20.002102\n",
      "Flow completed successfully\n",
      "\n"
     ]
    },
    {
     "data": {
      "text/plain": [
       "0"
      ]
     },
     "execution_count": 64,
     "metadata": {},
     "output_type": "execute_result"
    }
   ],
   "source": [
    "flow_ebands = build_ebands_flow()\n",
    "flow_ebands.make_scheduler().start()"
   ]
  },
  {
   "cell_type": "code",
   "execution_count": 76,
   "id": "3d7fbb56-e143-457f-b54f-d978fe27a7ad",
   "metadata": {},
   "outputs": [],
   "source": [
    "with abilab.abiopen(\"precision_flow_ebands/w0/t1/outdata/out_GSR.nc\") as gsr:\n",
    "    ebands_kpath = gsr.ebands\n",
    "\n",
    "with abilab.abiopen(\"precision_flow_ebands/w0/t0/outdata/out_GSR.nc\") as gsr:\n",
    "    ebands_kmesh = gsr.ebands\n",
    "    \n",
    "edos = ebands_kmesh.get_edos()"
   ]
  },
  {
   "cell_type": "code",
   "execution_count": 77,
   "id": "6b93acc2-5eef-4025-9aa3-0d8a3b472b5d",
   "metadata": {},
   "outputs": [
    {
     "name": "stdout",
     "output_type": "stream",
     "text": [
      "-47.58808965602596 eV -0.8836686979412283\n"
     ]
    }
   ],
   "source": [
    "print(ebands_kpath.fermie, edos.fermie)"
   ]
  },
  {
   "cell_type": "code",
   "execution_count": 78,
   "id": "e88f9c66-8200-44b1-9a06-f2f33831b703",
   "metadata": {},
   "outputs": [
    {
     "data": {
      "image/png": "[encoded data removed]",
      "text/plain": [
       "<Figure size 640x480 with 2 Axes>"
      ]
     },
     "metadata": {},
     "output_type": "display_data"
    }
   ],
   "source": [
    "ebands_kpath.plot_with_edos(edos, e0=0);"
   ]
  },
  {
   "cell_type": "code",
   "execution_count": null,
   "id": "fe054fc7-b22d-440f-869e-e78d792ffd07",
   "metadata": {},
   "outputs": [],
   "source": []
  },
  {
   "cell_type": "code",
   "execution_count": null,
   "id": "b970c5bb-605d-4da5-ae2a-f780d6500017",
   "metadata": {},
   "outputs": [],
   "source": []
  }
 ],
 "metadata": {
  "kernelspec": {
   "display_name": "abienv",
   "language": "python",
   "name": "abienv"
  },
  "language_info": {
   "codemirror_mode": {
    "name": "ipython",
    "version": 3
   },
   "file_extension": ".py",
   "mimetype": "text/x-python",
   "name": "python",
   "nbconvert_exporter": "python",
   "pygments_lexer": "ipython3",
   "version": "3.11.9"
  }
 },
 "nbformat": 4,
 "nbformat_minor": 5
}
